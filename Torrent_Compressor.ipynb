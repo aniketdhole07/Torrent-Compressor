{
  "nbformat": 4,
  "nbformat_minor": 0,
  "metadata": {
    "colab": {
      "name": "Torrent-Compressor",
      "provenance": [],
      "collapsed_sections": [],
      "toc_visible": true
    },
    "kernelspec": {
      "name": "python3",
      "display_name": "Python 3"
    }
  },
  "cells": [
    {
      "cell_type": "markdown",
      "metadata": {
        "id": "aQuWDmfm9YOi",
        "colab_type": "text"
      },
      "source": [
        "# Torrent-Compressor"
      ]
    },
    {
      "cell_type": "markdown",
      "metadata": {
        "id": "Uf90U73y9YOj",
        "colab_type": "text"
      },
      "source": [
        "### Mount Google Drive\n",
        "To stream files we need to mount Google Drive. <br>\n",
        "If you want to store the files in Drive"
      ]
    },
    {
      "cell_type": "code",
      "metadata": {
        "colab_type": "code",
        "id": "oWM9l2fvtuvO",
        "colab": {}
      },
      "source": [
        "from google.colab import drive\n",
        "drive.mount('/content/drive')"
      ],
      "execution_count": null,
      "outputs": []
    },
    {
      "cell_type": "markdown",
      "metadata": {
        "id": "FexiyATtNwTG",
        "colab_type": "text"
      },
      "source": [
        "## Install the Dependency"
      ]
    },
    {
      "cell_type": "code",
      "metadata": {
        "colab_type": "code",
        "id": "m6hF0emftx4h",
        "colab": {
          "base_uri": "https://localhost:8080/",
          "height": 527
        },
        "outputId": "47dfd023-6dc5-47ef-c74f-187bee9e186d"
      },
      "source": [
        "!apt install python3-libtorrent"
      ],
      "execution_count": 2,
      "outputs": [
        {
          "output_type": "stream",
          "text": [
            "Reading package lists... Done\n",
            "Building dependency tree       \n",
            "Reading state information... Done\n",
            "The following package was automatically installed and is no longer required:\n",
            "  libnvidia-common-440\n",
            "Use 'apt autoremove' to remove it.\n",
            "The following additional packages will be installed:\n",
            "  libtorrent-rasterbar9\n",
            "Suggested packages:\n",
            "  libtorrent-rasterbar-dbg\n",
            "The following NEW packages will be installed:\n",
            "  libtorrent-rasterbar9 python3-libtorrent\n",
            "0 upgraded, 2 newly installed, 0 to remove and 33 not upgraded.\n",
            "Need to get 1,569 kB of archives.\n",
            "After this operation, 5,718 kB of additional disk space will be used.\n",
            "Get:1 http://archive.ubuntu.com/ubuntu bionic/universe amd64 libtorrent-rasterbar9 amd64 1.1.5-1build1 [1,258 kB]\n",
            "Get:2 http://archive.ubuntu.com/ubuntu bionic/universe amd64 python3-libtorrent amd64 1.1.5-1build1 [310 kB]\n",
            "Fetched 1,569 kB in 0s (12.3 MB/s)\n",
            "Selecting previously unselected package libtorrent-rasterbar9.\n",
            "(Reading database ... 144379 files and directories currently installed.)\n",
            "Preparing to unpack .../libtorrent-rasterbar9_1.1.5-1build1_amd64.deb ...\n",
            "Unpacking libtorrent-rasterbar9 (1.1.5-1build1) ...\n",
            "Selecting previously unselected package python3-libtorrent.\n",
            "Preparing to unpack .../python3-libtorrent_1.1.5-1build1_amd64.deb ...\n",
            "Unpacking python3-libtorrent (1.1.5-1build1) ...\n",
            "Setting up libtorrent-rasterbar9 (1.1.5-1build1) ...\n",
            "Setting up python3-libtorrent (1.1.5-1build1) ...\n",
            "Processing triggers for libc-bin (2.27-3ubuntu1) ...\n",
            "/sbin/ldconfig.real: /usr/local/lib/python3.6/dist-packages/ideep4py/lib/libmkldnn.so.0 is not a symbolic link\n",
            "\n"
          ],
          "name": "stdout"
        }
      ]
    },
    {
      "cell_type": "markdown",
      "metadata": {
        "id": "tqKcWHZcYRIA",
        "colab_type": "text"
      },
      "source": [
        "### Code to download torrent\n",
        "\n",
        "Change the value in `link` variable to magnet link <br>\n",
        "\n",
        "Change the `save_path` to `/content/drive/My Drive/` to store in drive if required.\n"
      ]
    },
    {
      "cell_type": "code",
      "metadata": {
        "colab_type": "code",
        "id": "b09BxnANO2ep",
        "colab": {
          "base_uri": "https://localhost:8080/",
          "height": 343
        },
        "outputId": "8cd78053-47a3-4529-ae5a-afdf1d5b9bd1"
      },
      "source": [
        "import libtorrent as lt\n",
        "import time\n",
        "import datetime\n",
        "\n",
        "ses = lt.session()\n",
        "ses.listen_on(6881, 6891)\n",
        "params = {\n",
        "    'save_path': '/content',\n",
        "    'storage_mode': lt.storage_mode_t(2),\n",
        "    'paused': False,\n",
        "    'auto_managed': True,\n",
        "    'duplicate_is_error': True}\n",
        "link = \"magnet:?xt=urn:btih:74CB4594C0AC6A3DE8EFABF9CBC102CAEAD61954&dn=The.Big.Bang.Theory.S11E23.HDTV.x264-SVA%5Beztv%5D&tr=udp%3A%2F%2Ftracker.coppersurfer.tk%3A6969&tr=udp%3A%2F%2Ftracker.leechers-paradise.org%3A6969&tr=udp%3A%2F%2Ftracker.opentrackr.org%3A1337%2Fannounce&tr=udp%3A%2F%2Ftorrent.gresille.org%3A80%2Fannounce&tr=udp%3A%2F%2F9.rarbg.me%3A2710%2Fannounce&tr=udp%3A%2F%2Fp4p.arenabg.com%3A1337&tr=udp%3A%2F%2Ftracker.internetwarriors.net%3A1337&tr=udp%3A%2F%2Ftracker.zer0day.to%3A1337%2Fannounce&tr=udp%3A%2F%2Ftracker.leechers-paradise.org%3A6969%2Fannounce&tr=udp%3A%2F%2Fcoppersurfer.tk%3A6969%2Fannounce\"\n",
        "print(link)\n",
        "\n",
        "handle = lt.add_magnet_uri(ses, link, params)\n",
        "ses.start_dht()\n",
        "\n",
        "begin = time.time()\n",
        "print(datetime.datetime.now())\n",
        "\n",
        "print ('Downloading Metadata...')\n",
        "while (not handle.has_metadata()):\n",
        "    time.sleep(1)\n",
        "print ('Got Metadata, Starting Torrent Download...')\n",
        "\n",
        "print(\"Starting\", handle.name())\n",
        "\n",
        "while (handle.status().state != lt.torrent_status.seeding):\n",
        "    s = handle.status()\n",
        "    state_str = ['queued', 'checking', 'downloading metadata', \\\n",
        "            'downloading', 'finished', 'seeding', 'allocating']\n",
        "    print ('%.2f%% complete (down: %.1f kb/s up: %.1f kB/s peers: %d) %s ' % \\\n",
        "            (s.progress * 100, s.download_rate / 1000, s.upload_rate / 1000, \\\n",
        "            s.num_peers, state_str[s.state]))\n",
        "    time.sleep(5)\n",
        "\n",
        "end = time.time()\n",
        "print(handle.name(), \"COMPLETE\")\n",
        "\n",
        "print(\"Elapsed Time: \",int((end-begin)//60),\"min :\", int((end-begin)%60), \"sec\")\n",
        "\n",
        "print(datetime.datetime.now())"
      ],
      "execution_count": 5,
      "outputs": [
        {
          "output_type": "stream",
          "text": [
            "magnet:?xt=urn:btih:74CB4594C0AC6A3DE8EFABF9CBC102CAEAD61954&dn=The.Big.Bang.Theory.S11E23.HDTV.x264-SVA%5Beztv%5D&tr=udp%3A%2F%2Ftracker.coppersurfer.tk%3A6969&tr=udp%3A%2F%2Ftracker.leechers-paradise.org%3A6969&tr=udp%3A%2F%2Ftracker.opentrackr.org%3A1337%2Fannounce&tr=udp%3A%2F%2Ftorrent.gresille.org%3A80%2Fannounce&tr=udp%3A%2F%2F9.rarbg.me%3A2710%2Fannounce&tr=udp%3A%2F%2Fp4p.arenabg.com%3A1337&tr=udp%3A%2F%2Ftracker.internetwarriors.net%3A1337&tr=udp%3A%2F%2Ftracker.zer0day.to%3A1337%2Fannounce&tr=udp%3A%2F%2Ftracker.leechers-paradise.org%3A6969%2Fannounce&tr=udp%3A%2F%2Fcoppersurfer.tk%3A6969%2Fannounce\n",
            "2020-07-11 12:16:49.219606\n",
            "Downloading Metadata...\n",
            "Got Metadata, Starting Torrent Download...\n",
            "Starting The.Big.Bang.Theory.S11E23.HDTV.x264-SVA[eztv].mkv\n",
            "0.00% complete (down: 9.3 kb/s up: 0.4 kB/s peers: 3) downloading \n",
            "5.04% complete (down: 970.8 kb/s up: 32.3 kB/s peers: 4) downloading \n",
            "15.54% complete (down: 2446.0 kb/s up: 82.7 kB/s peers: 4) downloading \n",
            "27.08% complete (down: 3173.5 kb/s up: 106.4 kB/s peers: 3) downloading \n",
            "38.93% complete (down: 3453.4 kb/s up: 114.9 kB/s peers: 3) downloading \n",
            "50.42% complete (down: 3477.4 kb/s up: 115.4 kB/s peers: 3) downloading \n",
            "62.23% complete (down: 3528.2 kb/s up: 117.0 kB/s peers: 3) downloading \n",
            "74.08% complete (down: 3563.4 kb/s up: 118.1 kB/s peers: 3) downloading \n",
            "85.89% complete (down: 3585.3 kb/s up: 118.4 kB/s peers: 3) downloading \n",
            "97.44% complete (down: 3485.9 kb/s up: 115.3 kB/s peers: 3) downloading \n",
            "The.Big.Bang.Theory.S11E23.HDTV.x264-SVA[eztv].mkv COMPLETE\n",
            "Elapsed Time:  0 min : 52 sec\n",
            "2020-07-11 12:17:41.263350\n"
          ],
          "name": "stdout"
        }
      ]
    },
    {
      "cell_type": "markdown",
      "metadata": {
        "id": "Sn7MALWfyk3e",
        "colab_type": "text"
      },
      "source": [
        "# Downloading from Links(Non-Torrent)\n",
        "\n",
        "To download files from other links use the following ,edit the link."
      ]
    },
    {
      "cell_type": "code",
      "metadata": {
        "id": "r47IAQZiaOM6",
        "colab_type": "code",
        "colab": {}
      },
      "source": [
        "!wget http://bryd34f.zbigz.com/download/c_j8FRV5q7H3SVrCrSjRVD-zl3nFRW4XBHBT4qptnpVz1S5szGdPRWQ02VCm9A3EqEsOlmnVT4DMnFJwdJeGdCawqObhecKA_LLhVfdq1M1WrYJ_MxcxZEba83_wiEBzorQBUf525pAx_DHbT7WhVw4DD2Ghh5QtrfX-bLCTW_Sl-VZKDduM3IqeAtTb0pYHu9Q61Bod9iz7cECAUK004XDUE0c3jWe7nbSTeKnDmP-D16fs6Sd_8j8L6opg4dlvtSL3bj-Ft57cj-BjRZsyC5n4LEB5oVbXjKsRUE7oDhGw2hmu0gX0xUEwh7kYtA%3D%3D/The.Big.Bang.Theory.S06E24.HDTV.x264-LOL.mp4-user-agent=\"Mozilla\""
      ],
      "execution_count": null,
      "outputs": []
    },
    {
      "cell_type": "markdown",
      "metadata": {
        "id": "_AJHKT72zDPR",
        "colab_type": "text"
      },
      "source": [
        ""
      ]
    },
    {
      "cell_type": "markdown",
      "metadata": {
        "id": "CKMliNnFzDSN",
        "colab_type": "text"
      },
      "source": [
        "# Compressing the Files\n",
        "\n",
        "You can currently compress the video files like mp4,mkv,etc <br>\n",
        "Change the file name before use <br>\n",
        "Compression may take 2-3 Minutes"
      ]
    },
    {
      "cell_type": "code",
      "metadata": {
        "id": "_COhqZ6SPt-0",
        "colab_type": "code",
        "colab": {
          "base_uri": "https://localhost:8080/",
          "height": 712
        },
        "outputId": "2795d446-0fbd-417e-d2d3-e79838b74f4a"
      },
      "source": [
        "!ffmpeg -i \"The.Big.Bang.Theory.S11E23.HDTV.x264-SVA[eztv].mkv\" -vf \"scale=iw/2:ih/2\" Compressed.mkv"
      ],
      "execution_count": null,
      "outputs": [
        {
          "output_type": "stream",
          "text": [
            "ffmpeg version 3.4.6-0ubuntu0.18.04.1 Copyright (c) 2000-2019 the FFmpeg developers\n",
            "  built with gcc 7 (Ubuntu 7.3.0-16ubuntu3)\n",
            "  configuration: --prefix=/usr --extra-version=0ubuntu0.18.04.1 --toolchain=hardened --libdir=/usr/lib/x86_64-linux-gnu --incdir=/usr/include/x86_64-linux-gnu --enable-gpl --disable-stripping --enable-avresample --enable-avisynth --enable-gnutls --enable-ladspa --enable-libass --enable-libbluray --enable-libbs2b --enable-libcaca --enable-libcdio --enable-libflite --enable-libfontconfig --enable-libfreetype --enable-libfribidi --enable-libgme --enable-libgsm --enable-libmp3lame --enable-libmysofa --enable-libopenjpeg --enable-libopenmpt --enable-libopus --enable-libpulse --enable-librubberband --enable-librsvg --enable-libshine --enable-libsnappy --enable-libsoxr --enable-libspeex --enable-libssh --enable-libtheora --enable-libtwolame --enable-libvorbis --enable-libvpx --enable-libwavpack --enable-libwebp --enable-libx265 --enable-libxml2 --enable-libxvid --enable-libzmq --enable-libzvbi --enable-omx --enable-openal --enable-opengl --enable-sdl2 --enable-libdc1394 --enable-libdrm --enable-libiec61883 --enable-chromaprint --enable-frei0r --enable-libopencv --enable-libx264 --enable-shared\n",
            "  libavutil      55. 78.100 / 55. 78.100\n",
            "  libavcodec     57.107.100 / 57.107.100\n",
            "  libavformat    57. 83.100 / 57. 83.100\n",
            "  libavdevice    57. 10.100 / 57. 10.100\n",
            "  libavfilter     6.107.100 /  6.107.100\n",
            "  libavresample   3.  7.  0 /  3.  7.  0\n",
            "  libswscale      4.  8.100 /  4.  8.100\n",
            "  libswresample   2.  9.100 /  2.  9.100\n",
            "  libpostproc    54.  7.100 / 54.  7.100\n",
            "Input #0, matroska,webm, from 'The.Big.Bang.Theory.S11E23.HDTV.x264-SVA[eztv].mkv':\n",
            "  Metadata:\n",
            "    encoder         : libx264 + libebml + libmatroska + libfastrar\n",
            "    creation_time   : 2018-05-04T00:30:55.000000Z\n",
            "  Duration: 00:19:41.51, start: 0.000000, bitrate: 992 kb/s\n",
            "    Stream #0:0: Video: h264 (High), yuv420p(tv, bt709/unknown/unknown, progressive), 720x404 [SAR 1:1 DAR 180:101], 23.98 fps, 23.98 tbr, 1k tbn, 47.95 tbc (default)\n",
            "    Stream #0:1: Audio: aac (LC), 48000 Hz, stereo, fltp (default)\n",
            "Stream mapping:\n",
            "  Stream #0:0 -> #0:0 (h264 (native) -> h264 (libx264))\n",
            "  Stream #0:1 -> #0:1 (aac (native) -> vorbis (libvorbis))\n",
            "Press [q] to stop, [?] for help\n",
            "\u001b[1;36m[libx264 @ 0x55ab8267ed00] \u001b[0musing SAR=1/1\n",
            "\u001b[1;36m[libx264 @ 0x55ab8267ed00] \u001b[0musing cpu capabilities: MMX2 SSE2Fast SSSE3 SSE4.2 AVX FMA3 BMI2 AVX2\n",
            "\u001b[1;36m[libx264 @ 0x55ab8267ed00] \u001b[0mprofile High, level 1.3\n",
            "\u001b[1;36m[libx264 @ 0x55ab8267ed00] \u001b[0m264 - core 152 r2854 e9a5903 - H.264/MPEG-4 AVC codec - Copyleft 2003-2017 - http://www.videolan.org/x264.html - options: cabac=1 ref=3 deblock=1:0:0 analyse=0x3:0x113 me=hex subme=7 psy=1 psy_rd=1.00:0.00 mixed_ref=1 me_range=16 chroma_me=1 trellis=1 8x8dct=1 cqm=0 deadzone=21,11 fast_pskip=1 chroma_qp_offset=-2 threads=3 lookahead_threads=1 sliced_threads=0 nr=0 decimate=1 interlaced=0 bluray_compat=0 constrained_intra=0 bframes=3 b_pyramid=2 b_adapt=1 b_bias=0 direct=1 weightb=1 open_gop=0 weightp=2 keyint=250 keyint_min=23 scenecut=40 intra_refresh=0 rc_lookahead=40 rc=crf mbtree=1 crf=23.0 qcomp=0.60 qpmin=0 qpmax=69 qpstep=4 ip_ratio=1.40 aq=1:1.00\n",
            "Output #0, matroska, to 'Compressed.mkv':\n",
            "  Metadata:\n",
            "    encoder         : Lavf57.83.100\n",
            "    Stream #0:0: Video: h264 (libx264) (H264 / 0x34363248), yuv420p, 360x202 [SAR 1:1 DAR 180:101], q=-1--1, 23.98 fps, 1k tbn, 23.98 tbc (default)\n",
            "    Metadata:\n",
            "      encoder         : Lavc57.107.100 libx264\n",
            "    Side data:\n",
            "      cpb: bitrate max/min/avg: 0/0/0 buffer size: 0 vbv_delay: -1\n",
            "    Stream #0:1: Audio: vorbis (libvorbis) (oV[0][0] / 0x566F), 48000 Hz, stereo, fltp (default)\n",
            "    Metadata:\n",
            "      encoder         : Lavc57.107.100 libvorbis\n"
          ],
          "name": "stdout"
        }
      ]
    },
    {
      "cell_type": "code",
      "metadata": {
        "id": "WiOK32tSTy9Q",
        "colab_type": "code",
        "colab": {
          "base_uri": "https://localhost:8080/",
          "height": 204
        },
        "outputId": "60d88929-9268-40b4-c9ed-e03f66c2951f"
      },
      "source": [
        ""
      ],
      "execution_count": null,
      "outputs": [
        {
          "output_type": "stream",
          "text": [
            "total 521840\n",
            "-rw-r--r-- 1 root root      5521 Jun 23 08:36  28f8257223e36811025a460b2097981a3769420f\n",
            "-rw-r--r-- 1 root root       153 Jul 11 10:30  a.mkv\n",
            "drwx------ 4 root root      4096 Jul 11 10:09  drive\n",
            "-rw-r--r-- 1 root root  46380675 Jul 11 12:04  half_the_frame_size.mkv\n",
            "drwxr-xr-x 1 root root      4096 Jun 26 16:26  sample_data\n",
            "-rw-r--r-- 1 root root        15 Jul 11 10:26  the.big.bang.theory.s06e24.720p.5.1ch.bluray.reenc-deejayahmed.mkv\n",
            "-rw-r--r-- 1 root root        15 Jul 11 10:26  the.big.bang.theory.s06e24.720p.5.1ch.bluray.reenc-deejayahmed.mkv.1\n",
            "-rw-r--r-- 1 root root 170684488 Jul 11 10:36  The.Big.Bang.Theory.S06E24.HDTV.x264-LOL.mp4\n",
            "-rw-r--r-- 1 root root 170684488 Jul 11 10:20  The.Big.Bang.Theory.S06E24.HDTV.x264-LOL.mp4.1\n",
            "-rw-r--r-- 1 root root 146555605 Jul 11 09:55 'The.Big.Bang.Theory.S11E23.HDTV.x264-SVA[eztv].mkv'\n"
          ],
          "name": "stdout"
        }
      ]
    },
    {
      "cell_type": "code",
      "metadata": {
        "id": "D_Z6aETpVEHR",
        "colab_type": "code",
        "colab": {}
      },
      "source": [
        ""
      ],
      "execution_count": null,
      "outputs": []
    }
  ]
}